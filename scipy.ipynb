{
 "cells": [
  {
   "cell_type": "code",
   "execution_count": 5,
   "id": "a6012163-0c5b-4a20-aaf7-aeb7f81444d6",
   "metadata": {},
   "outputs": [
    {
     "name": "stdout",
     "output_type": "stream",
     "text": [
      "0.001\n"
     ]
    }
   ],
   "source": [
    "from scipy import constants\n",
    "print(constants.gram)"
   ]
  },
  {
   "cell_type": "code",
   "execution_count": 7,
   "id": "37e03481-ffda-4936-9891-59bc77552aa1",
   "metadata": {},
   "outputs": [
    {
     "name": "stdout",
     "output_type": "stream",
     "text": [
      "1e+24\n"
     ]
    }
   ],
   "source": [
    "from scipy import constants\n",
    "print(constants.yotta)"
   ]
  },
  {
   "cell_type": "code",
   "execution_count": 9,
   "id": "25709bf9-4718-4ff9-97d1-091dc6381fde",
   "metadata": {},
   "outputs": [
    {
     "name": "stdout",
     "output_type": "stream",
     "text": [
      "60.0\n"
     ]
    }
   ],
   "source": [
    "from scipy import constants\n",
    "print(constants.minute)"
   ]
  },
  {
   "cell_type": "code",
   "execution_count": 11,
   "id": "ed66f575-9ebf-4e15-84c4-4ed5b7940007",
   "metadata": {},
   "outputs": [
    {
     "name": "stdout",
     "output_type": "stream",
     "text": [
      "1000.0\n"
     ]
    }
   ],
   "source": [
    "from scipy import constants\n",
    "print(constants.kilo)"
   ]
  },
  {
   "cell_type": "code",
   "execution_count": null,
   "id": "ccf910b2-99e9-4eff-a990-1613be44ab1a",
   "metadata": {},
   "outputs": [],
   "source": []
  }
 ],
 "metadata": {
  "kernelspec": {
   "display_name": "Python 3 (ipykernel)",
   "language": "python",
   "name": "python3"
  },
  "language_info": {
   "codemirror_mode": {
    "name": "ipython",
    "version": 3
   },
   "file_extension": ".py",
   "mimetype": "text/x-python",
   "name": "python",
   "nbconvert_exporter": "python",
   "pygments_lexer": "ipython3",
   "version": "3.12.4"
  }
 },
 "nbformat": 4,
 "nbformat_minor": 5
}
